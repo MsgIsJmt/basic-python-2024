{
 "cells": [
  {
   "cell_type": "markdown",
   "metadata": {},
   "source": [
    "## 1번 문제"
   ]
  },
  {
   "cell_type": "code",
   "execution_count": 14,
   "metadata": {},
   "outputs": [],
   "source": [
    "# 1번 문제\n",
    "import math\n",
    "\n",
    "radius = int(input('원의 반지름:'))\n",
    "area = radius * radius * math.pi\n",
    "\n",
    "if radius < 0: # 값이 음수가 나오는 것 방지\n",
    "    print('잘못된 값입니다.')\n",
    "else:\n",
    "    print('원의 넓이는:', area)"
   ]
  },
  {
   "cell_type": "markdown",
   "metadata": {},
   "source": [
    "## 2번 문제"
   ]
  },
  {
   "cell_type": "code",
   "execution_count": 12,
   "metadata": {},
   "outputs": [
    {
     "name": "stdout",
     "output_type": "stream",
     "text": [
      "수성\n"
     ]
    }
   ],
   "source": [
    "# 2번 문제\n",
    "\n",
    "planet = { 'Mercury': '수성', 'Venus': '금성', 'Earth': '지구', 'Mars': '화성', 'Jupiter,': '목성', 'Saturn': '토성', 'Uranus': '천왕성', 'Neptune': '해왕성'}\n",
    "\n",
    "name = input('행성의 영어 이름 (첫글자는 대문자로 써야합니다.) : ')\n",
    "print(planet[name])"
   ]
  },
  {
   "cell_type": "markdown",
   "metadata": {},
   "source": [
    "## 3번 문제"
   ]
  },
  {
   "cell_type": "code",
   "execution_count": 13,
   "metadata": {},
   "outputs": [
    {
     "name": "stdout",
     "output_type": "stream",
     "text": [
      "['Im', 'going', 'to', 'leave', 'the', 'door', 'open']\n",
      "문장의 단어 갯수는 7개입니다.\n"
     ]
    }
   ],
   "source": [
    "# 3번 문제\n",
    "\n",
    "inputString = input(\"변환할 문장을 입력하세요 : \")\n",
    "words = inputString.split(' ')\n",
    "print(f'문장의 단어 {len(words)}개')\n",
    "\n",
    "\n",
    "\n",
    "\n",
    "inputString = input(\"변환할 문장을 입력하세요 : \")\n",
    "outputString = \"\"\n",
    "\n",
    "words = inputString.strip().split() \n",
    "# strip으로 사용자 입력 중 좌우 공백 실수로 넣는거 방지\n",
    "# split 적용해서 단어 단위로 처리\n",
    "\n",
    "for index in range(len(words)): # index는 0에서 문장 단어 수 - 1까지(Iterator)\n",
    "    if index%2 == 1: # index가 홀수 ~ index-1은 짝수\n",
    "        words[index] = words[index].upper()\n",
    "\n",
    "for each in words: # 마지막으로 다시 리스트에서 문장으로 돌리는 부분\n",
    "    outputString = outputString + ' ' + each\n",
    "print(outputString)   "
   ]
  },
  {
   "cell_type": "code",
   "execution_count": null,
   "metadata": {},
   "outputs": [],
   "source": [
    "sentence = input(\"변환할 문장을 입력하세요 : \")\n",
    "sentences = sentence.split(' ')\n",
    "\n",
    "num = 1\n",
    "for i in sentences:\n",
    "    if(num % 2 == 0):\n",
    "        print(i.upper(), end=' ')\n",
    "    else:\n",
    "        print(i, end=' ')\n",
    "\n"
   ]
  },
  {
   "cell_type": "markdown",
   "metadata": {},
   "source": [
    "## 4번 문제"
   ]
  },
  {
   "cell_type": "code",
   "execution_count": null,
   "metadata": {},
   "outputs": [],
   "source": [
    "# 4번 문제\n",
    "\n",
    "def get_url(name):\n",
    "    return f'www.{name}.com'\n",
    "\n",
    "inname = input('웹사이트 이름 입력 : ')\n",
    "url = get_url(inname)\n",
    "print(url)"
   ]
  },
  {
   "cell_type": "markdown",
   "metadata": {},
   "source": [
    "## 5번 문제"
   ]
  },
  {
   "cell_type": "code",
   "execution_count": null,
   "metadata": {},
   "outputs": [],
   "source": [
    "# 5번 문제\n",
    "\n",
    "num =  int(input('수행할 단번호 :'))\n",
    "\n",
    "print('구구단', num, '단')\n",
    "for x in range(1,10) :\n",
    "    print(num,'x', x, '=', num * x)"
   ]
  }
 ],
 "metadata": {
  "kernelspec": {
   "display_name": "Python 3",
   "language": "python",
   "name": "python3"
  },
  "language_info": {
   "codemirror_mode": {
    "name": "ipython",
    "version": 3
   },
   "file_extension": ".py",
   "mimetype": "text/x-python",
   "name": "python",
   "nbconvert_exporter": "python",
   "pygments_lexer": "ipython3",
   "version": "3.11.5"
  }
 },
 "nbformat": 4,
 "nbformat_minor": 2
}
